{
  "nbformat": 4,
  "nbformat_minor": 0,
  "metadata": {
    "colab": {
      "name": "Extracting Football Insights and Creating a Model.ipynb",
      "provenance": [],
      "collapsed_sections": [
        "HnYG82sdyRGw",
        "VqHXJME_AtpW",
        "WB_cXPjONruG",
        "EvJiZ4TWLCKV",
        "9HdqRGAyVVKM",
        "c-yf5xfta8fH",
        "5XqUV-nDieDh",
        "mO7KZN7Ul34S",
        "uEpGMSuop88W"
      ]
    },
    "kernelspec": {
      "name": "python3",
      "display_name": "Python 3"
    },
    "accelerator": "GPU"
  },
  "cells": [
    {
      "cell_type": "markdown",
      "metadata": {
        "id": "T0M3lG5--gqq",
        "colab_type": "text"
      },
      "source": [
        "# Extracting insights from a football events dataset and creating a match outcome prediction model\n",
        "\n",
        "\n",
        "---\n",
        "\n",
        "by Skander Chouchene\n",
        "\n",
        "---\n",
        "\n",
        "\n",
        "\n",
        "\n",
        "\n"
      ]
    },
    {
      "cell_type": "markdown",
      "metadata": {
        "id": "A0mYH15l-Klu",
        "colab_type": "text"
      },
      "source": [
        "# Importing libraries and data manipulation"
      ]
    },
    {
      "cell_type": "code",
      "metadata": {
        "id": "JP1l5B4Dtwki",
        "colab_type": "code",
        "colab": {
          "base_uri": "https://localhost:8080/",
          "height": 74
        },
        "outputId": "3bfc920d-3502-4efe-9499-c56e0ae5bcf5"
      },
      "source": [
        "import pandas as pd\n",
        "import numpy as np\n",
        "import matplotlib.pyplot as plt\n",
        "from sklearn.model_selection import train_test_split\n",
        "from scipy import stats\n",
        "from sklearn.model_selection import KFold, cross_val_score, train_test_split\n",
        "from sklearn.metrics import mean_squared_error, accuracy_score\n",
        "import seaborn as sns  #advanced visualization library\n",
        "import requests, zipfile, io\n",
        "import warnings\n",
        "from matplotlib.colors import ListedColormap\n",
        "sns.set_style(\"whitegrid\")\n",
        "sns.set_palette(\"GnBu_d\")\n",
        "warnings.filterwarnings('ignore')\n"
      ],
      "execution_count": 2,
      "outputs": [
        {
          "output_type": "stream",
          "text": [
            "/usr/local/lib/python3.6/dist-packages/statsmodels/tools/_testing.py:19: FutureWarning: pandas.util.testing is deprecated. Use the functions in the public API at pandas.testing instead.\n",
            "  import pandas.util.testing as tm\n"
          ],
          "name": "stderr"
        }
      ]
    },
    {
      "cell_type": "code",
      "metadata": {
        "id": "liySo8m4uSx0",
        "colab_type": "code",
        "colab": {}
      },
      "source": [
        "data = pd.read_csv('/content/drive/My Drive/Football events/events.csv')"
      ],
      "execution_count": 3,
      "outputs": []
    },
    {
      "cell_type": "code",
      "metadata": {
        "id": "wXjWIq6PwKtU",
        "colab_type": "code",
        "colab": {
          "base_uri": "https://localhost:8080/",
          "height": 626
        },
        "outputId": "29f82f14-6fdf-4a18-8ec7-50f10320bcfb"
      },
      "source": [
        "data.head()"
      ],
      "execution_count": 4,
      "outputs": [
        {
          "output_type": "execute_result",
          "data": {
            "text/html": [
              "<div>\n",
              "<style scoped>\n",
              "    .dataframe tbody tr th:only-of-type {\n",
              "        vertical-align: middle;\n",
              "    }\n",
              "\n",
              "    .dataframe tbody tr th {\n",
              "        vertical-align: top;\n",
              "    }\n",
              "\n",
              "    .dataframe thead th {\n",
              "        text-align: right;\n",
              "    }\n",
              "</style>\n",
              "<table border=\"1\" class=\"dataframe\">\n",
              "  <thead>\n",
              "    <tr style=\"text-align: right;\">\n",
              "      <th></th>\n",
              "      <th>id_odsp</th>\n",
              "      <th>id_event</th>\n",
              "      <th>sort_order</th>\n",
              "      <th>time</th>\n",
              "      <th>text</th>\n",
              "      <th>event_type</th>\n",
              "      <th>event_type2</th>\n",
              "      <th>side</th>\n",
              "      <th>event_team</th>\n",
              "      <th>opponent</th>\n",
              "      <th>player</th>\n",
              "      <th>player2</th>\n",
              "      <th>player_in</th>\n",
              "      <th>player_out</th>\n",
              "      <th>shot_place</th>\n",
              "      <th>shot_outcome</th>\n",
              "      <th>is_goal</th>\n",
              "      <th>location</th>\n",
              "      <th>bodypart</th>\n",
              "      <th>assist_method</th>\n",
              "      <th>situation</th>\n",
              "      <th>fast_break</th>\n",
              "    </tr>\n",
              "  </thead>\n",
              "  <tbody>\n",
              "    <tr>\n",
              "      <th>0</th>\n",
              "      <td>UFot0hit/</td>\n",
              "      <td>UFot0hit1</td>\n",
              "      <td>1</td>\n",
              "      <td>2</td>\n",
              "      <td>Attempt missed. Mladen Petric (Hamburg) left f...</td>\n",
              "      <td>1</td>\n",
              "      <td>12.0</td>\n",
              "      <td>2</td>\n",
              "      <td>Hamburg SV</td>\n",
              "      <td>Borussia Dortmund</td>\n",
              "      <td>mladen petric</td>\n",
              "      <td>gokhan tore</td>\n",
              "      <td>NaN</td>\n",
              "      <td>NaN</td>\n",
              "      <td>6.0</td>\n",
              "      <td>2.0</td>\n",
              "      <td>0</td>\n",
              "      <td>9.0</td>\n",
              "      <td>2.0</td>\n",
              "      <td>1</td>\n",
              "      <td>1.0</td>\n",
              "      <td>0</td>\n",
              "    </tr>\n",
              "    <tr>\n",
              "      <th>1</th>\n",
              "      <td>UFot0hit/</td>\n",
              "      <td>UFot0hit2</td>\n",
              "      <td>2</td>\n",
              "      <td>4</td>\n",
              "      <td>Corner,  Borussia Dortmund. Conceded by Dennis...</td>\n",
              "      <td>2</td>\n",
              "      <td>NaN</td>\n",
              "      <td>1</td>\n",
              "      <td>Borussia Dortmund</td>\n",
              "      <td>Hamburg SV</td>\n",
              "      <td>dennis diekmeier</td>\n",
              "      <td>dennis diekmeier</td>\n",
              "      <td>NaN</td>\n",
              "      <td>NaN</td>\n",
              "      <td>NaN</td>\n",
              "      <td>NaN</td>\n",
              "      <td>0</td>\n",
              "      <td>NaN</td>\n",
              "      <td>NaN</td>\n",
              "      <td>0</td>\n",
              "      <td>NaN</td>\n",
              "      <td>0</td>\n",
              "    </tr>\n",
              "    <tr>\n",
              "      <th>2</th>\n",
              "      <td>UFot0hit/</td>\n",
              "      <td>UFot0hit3</td>\n",
              "      <td>3</td>\n",
              "      <td>4</td>\n",
              "      <td>Corner,  Borussia Dortmund. Conceded by Heiko ...</td>\n",
              "      <td>2</td>\n",
              "      <td>NaN</td>\n",
              "      <td>1</td>\n",
              "      <td>Borussia Dortmund</td>\n",
              "      <td>Hamburg SV</td>\n",
              "      <td>heiko westermann</td>\n",
              "      <td>heiko westermann</td>\n",
              "      <td>NaN</td>\n",
              "      <td>NaN</td>\n",
              "      <td>NaN</td>\n",
              "      <td>NaN</td>\n",
              "      <td>0</td>\n",
              "      <td>NaN</td>\n",
              "      <td>NaN</td>\n",
              "      <td>0</td>\n",
              "      <td>NaN</td>\n",
              "      <td>0</td>\n",
              "    </tr>\n",
              "    <tr>\n",
              "      <th>3</th>\n",
              "      <td>UFot0hit/</td>\n",
              "      <td>UFot0hit4</td>\n",
              "      <td>4</td>\n",
              "      <td>7</td>\n",
              "      <td>Foul by Sven Bender (Borussia Dortmund).</td>\n",
              "      <td>3</td>\n",
              "      <td>NaN</td>\n",
              "      <td>1</td>\n",
              "      <td>Borussia Dortmund</td>\n",
              "      <td>Hamburg SV</td>\n",
              "      <td>sven bender</td>\n",
              "      <td>NaN</td>\n",
              "      <td>NaN</td>\n",
              "      <td>NaN</td>\n",
              "      <td>NaN</td>\n",
              "      <td>NaN</td>\n",
              "      <td>0</td>\n",
              "      <td>NaN</td>\n",
              "      <td>NaN</td>\n",
              "      <td>0</td>\n",
              "      <td>NaN</td>\n",
              "      <td>0</td>\n",
              "    </tr>\n",
              "    <tr>\n",
              "      <th>4</th>\n",
              "      <td>UFot0hit/</td>\n",
              "      <td>UFot0hit5</td>\n",
              "      <td>5</td>\n",
              "      <td>7</td>\n",
              "      <td>Gokhan Tore (Hamburg) wins a free kick in the ...</td>\n",
              "      <td>8</td>\n",
              "      <td>NaN</td>\n",
              "      <td>2</td>\n",
              "      <td>Hamburg SV</td>\n",
              "      <td>Borussia Dortmund</td>\n",
              "      <td>gokhan tore</td>\n",
              "      <td>NaN</td>\n",
              "      <td>NaN</td>\n",
              "      <td>NaN</td>\n",
              "      <td>NaN</td>\n",
              "      <td>NaN</td>\n",
              "      <td>0</td>\n",
              "      <td>2.0</td>\n",
              "      <td>NaN</td>\n",
              "      <td>0</td>\n",
              "      <td>NaN</td>\n",
              "      <td>0</td>\n",
              "    </tr>\n",
              "  </tbody>\n",
              "</table>\n",
              "</div>"
            ],
            "text/plain": [
              "     id_odsp   id_event  sort_order  ...  assist_method situation  fast_break\n",
              "0  UFot0hit/  UFot0hit1           1  ...              1       1.0           0\n",
              "1  UFot0hit/  UFot0hit2           2  ...              0       NaN           0\n",
              "2  UFot0hit/  UFot0hit3           3  ...              0       NaN           0\n",
              "3  UFot0hit/  UFot0hit4           4  ...              0       NaN           0\n",
              "4  UFot0hit/  UFot0hit5           5  ...              0       NaN           0\n",
              "\n",
              "[5 rows x 22 columns]"
            ]
          },
          "metadata": {
            "tags": []
          },
          "execution_count": 4
        }
      ]
    },
    {
      "cell_type": "code",
      "metadata": {
        "id": "sRv7vumIuquS",
        "colab_type": "code",
        "colab": {
          "base_uri": "https://localhost:8080/",
          "height": 445
        },
        "outputId": "2b1efa8c-a0cf-459e-ece0-9a706c9dfd1e"
      },
      "source": [
        "missing_percentage=(data.isna().sum()/len(data)).sort_values(ascending=False)\n",
        "missing_percentage"
      ],
      "execution_count": 5,
      "outputs": [
        {
          "output_type": "execute_result",
          "data": {
            "text/plain": [
              "player_in        0.945043\n",
              "player_out       0.945019\n",
              "event_type2      0.772273\n",
              "shot_place       0.758282\n",
              "shot_outcome     0.757178\n",
              "situation        0.756499\n",
              "bodypart         0.756448\n",
              "player2          0.690428\n",
              "location         0.503653\n",
              "player           0.064824\n",
              "id_event         0.000000\n",
              "sort_order       0.000000\n",
              "time             0.000000\n",
              "text             0.000000\n",
              "event_type       0.000000\n",
              "fast_break       0.000000\n",
              "side             0.000000\n",
              "event_team       0.000000\n",
              "opponent         0.000000\n",
              "is_goal          0.000000\n",
              "assist_method    0.000000\n",
              "id_odsp          0.000000\n",
              "dtype: float64"
            ]
          },
          "metadata": {
            "tags": []
          },
          "execution_count": 5
        }
      ]
    },
    {
      "cell_type": "markdown",
      "metadata": {
        "id": "IqViMiIcaWs6",
        "colab_type": "text"
      },
      "source": [
        "# I/ Teams"
      ]
    },
    {
      "cell_type": "markdown",
      "metadata": {
        "id": "1ID7P8W3_gmm",
        "colab_type": "text"
      },
      "source": [
        " ### 1) Attacking side"
      ]
    },
    {
      "cell_type": "markdown",
      "metadata": {
        "id": "HnYG82sdyRGw",
        "colab_type": "text"
      },
      "source": [
        "#### Question 1: Which teams are the best at scoring and converting chances ?"
      ]
    },
    {
      "cell_type": "code",
      "metadata": {
        "id": "iBMuWoVKx3Fy",
        "colab_type": "code",
        "colab": {}
      },
      "source": [
        "total_goals=pd.DataFrame(data.groupby(['event_team'])['is_goal'].agg(\"sum\").sort_values().iloc[::-1])\n",
        "total_chances=pd.DataFrame(data[data[\"event_type\"]==1].groupby(['event_team'])['event_type'].agg(\"sum\").sort_values().iloc[::-1])"
      ],
      "execution_count": 8,
      "outputs": []
    },
    {
      "cell_type": "code",
      "metadata": {
        "id": "LkB42RkNy_a5",
        "colab_type": "code",
        "colab": {
          "base_uri": "https://localhost:8080/",
          "height": 0
        },
        "outputId": "92566d33-63fc-4471-cde0-91e8f7899187"
      },
      "source": [
        "total_goals.iloc[:10].plot(kind='bar',figsize =(20,10))\n",
        "plt.title(\"Top 20 heighest scoring teams\",fontsize=18)\n",
        "plt.xticks(fontsize=14)\n",
        "plt.show()"
      ],
      "execution_count": 9,
      "outputs": [
        {
          "output_type": "display_data",
          "data": {
            "image/png": "[encoded data removed]",
            "text/plain": [
              "<Figure size 1440x720 with 1 Axes>"
            ]
          },
          "metadata": {
            "tags": []
          }
        }
      ]
    },
    {
      "cell_type": "code",
      "metadata": {
        "id": "3agzcvL41CrF",
        "colab_type": "code",
        "colab": {}
      },
      "source": [
        "total_chances=total_chances.reindex(index=total_goals.index)\n",
        "conversion_ratio=(total_goals[\"is_goal\"]/total_chances[\"event_type\"]).sort_values().iloc[::-1]"
      ],
      "execution_count": 10,
      "outputs": []
    },
    {
      "cell_type": "code",
      "metadata": {
        "id": "Y4iaoJes3B9r",
        "colab_type": "code",
        "colab": {
          "base_uri": "https://localhost:8080/",
          "height": 0
        },
        "outputId": "46fb3856-a9bb-4e1d-c3ff-d162085a4c05"
      },
      "source": [
        "conversion_ratio.iloc[:10].plot(kind='bar',figsize =(20,10))\n",
        "plt.title(\"Top 10 Most efficient teams at converting attempts\",fontsize=18)\n",
        "plt.xticks(fontsize=14)\n",
        "plt.show()"
      ],
      "execution_count": 11,
      "outputs": [
        {
          "output_type": "display_data",
          "data": {
            "image/png": "[encoded data removed]",
            "text/plain": [
              "<Figure size 1440x720 with 1 Axes>"
            ]
          },
          "metadata": {
            "tags": []
          }
        }
      ]
    },
    {
      "cell_type": "markdown",
      "metadata": {
        "id": "5rJ5Kt8J_7DL",
        "colab_type": "text"
      },
      "source": [
        "Unsurprisingly, Barcelona, Real Madrid and Bayern Munich are at the top of the goal scoring sheets and the scoring efficiency.\\\n",
        "However, PSG jumps higher on the conversion rate, due to its strong offensive line."
      ]
    },
    {
      "cell_type": "markdown",
      "metadata": {
        "id": "VqHXJME_AtpW",
        "colab_type": "text"
      },
      "source": [
        "#### Question 2: Comparing assist methods"
      ]
    },
    {
      "cell_type": "code",
      "metadata": {
        "id": "JPRCBK9YEyBw",
        "colab_type": "code",
        "colab": {}
      },
      "source": [
        "assist_types={1:\"Pass\", 2:\t\"Cross\", 3:\t\"Headed pass\", 4:\t\"Through ball\"}\n",
        "assist_counts=pd.DataFrame(data[data[\"is_goal\"]==1][\"assist_method\"].value_counts())"
      ],
      "execution_count": 12,
      "outputs": []
    },
    {
      "cell_type": "code",
      "metadata": {
        "id": "CZUEvmJEDXG8",
        "colab_type": "code",
        "colab": {}
      },
      "source": [
        "assist_counts.drop(0,inplace=True)\n",
        "assist_counts[\"assist_type\"]=[assist_types[t] for t in assist_counts.index]"
      ],
      "execution_count": 13,
      "outputs": []
    },
    {
      "cell_type": "code",
      "metadata": {
        "id": "Q64j6YjDHf4Q",
        "colab_type": "code",
        "colab": {
          "base_uri": "https://localhost:8080/",
          "height": 0
        },
        "outputId": "395a7c2c-6c44-45c0-9e47-aa08e9fc1d5b"
      },
      "source": [
        "assist_counts.plot(x=\"assist_type\" , y=\"assist_method\",kind=\"bar\", figsize=(10,5), title=\"Most successful assist types\")\n",
        "plt.xticks(fontsize=10)\n"
      ],
      "execution_count": 14,
      "outputs": [
        {
          "output_type": "execute_result",
          "data": {
            "text/plain": [
              "(array([0, 1, 2, 3]), <a list of 4 Text major ticklabel objects>)"
            ]
          },
          "metadata": {
            "tags": []
          },
          "execution_count": 14
        },
        {
          "output_type": "display_data",
          "data": {
            "image/png": "[encoded data removed]",
            "text/plain": [
              "<Figure size 720x360 with 1 Axes>"
            ]
          },
          "metadata": {
            "tags": []
          }
        }
      ]
    },
    {
      "cell_type": "markdown",
      "metadata": {
        "id": "WB_cXPjONruG",
        "colab_type": "text"
      },
      "source": [
        "### 2) Defensive side"
      ]
    },
    {
      "cell_type": "markdown",
      "metadata": {
        "id": "EvJiZ4TWLCKV",
        "colab_type": "text"
      },
      "source": [
        "#### Question 3: Which teams are the worst at defending?"
      ]
    },
    {
      "cell_type": "code",
      "metadata": {
        "id": "BCvwa6FLKS2i",
        "colab_type": "code",
        "colab": {}
      },
      "source": [
        "goals_conceded=pd.DataFrame(data.groupby(['opponent'])['is_goal'].agg(\"sum\").sort_values().iloc[::-1])"
      ],
      "execution_count": 15,
      "outputs": []
    },
    {
      "cell_type": "code",
      "metadata": {
        "id": "g2j9UNCwLBBq",
        "colab_type": "code",
        "colab": {
          "base_uri": "https://localhost:8080/",
          "height": 0
        },
        "outputId": "4cc63578-46b6-49d7-93b5-a22f69d95292"
      },
      "source": [
        "goals_conceded.iloc[:5].plot(kind='bar',figsize =(20,10),colormap=\"Paired\")\n",
        "plt.title(\"Teams that conceded the most goals\",fontsize=18)\n",
        "plt.xticks(fontsize=14)\n",
        "plt.show()"
      ],
      "execution_count": 16,
      "outputs": [
        {
          "output_type": "display_data",
          "data": {
            "image/png": "[encoded data removed]",
            "text/plain": [
              "<Figure size 1440x720 with 1 Axes>"
            ]
          },
          "metadata": {
            "tags": []
          }
        }
      ]
    },
    {
      "cell_type": "markdown",
      "metadata": {
        "id": "9HdqRGAyVVKM",
        "colab_type": "text"
      },
      "source": [
        "#### Question 4: What are the most violent teams?"
      ]
    },
    {
      "cell_type": "code",
      "metadata": {
        "id": "6pNzqm5BVUvo",
        "colab_type": "code",
        "colab": {}
      },
      "source": [
        "yellow=data[data[\"event_type\"]==4]\n",
        "red=data[data[\"event_type\"]==6]"
      ],
      "execution_count": 17,
      "outputs": []
    },
    {
      "cell_type": "code",
      "metadata": {
        "id": "7JryE2SHO92u",
        "colab_type": "code",
        "colab": {}
      },
      "source": [
        "yellow_teams=pd.DataFrame(yellow[\"event_team\"].value_counts())\n",
        "red_teams=pd.DataFrame(red[\"event_team\"].value_counts())"
      ],
      "execution_count": 18,
      "outputs": []
    },
    {
      "cell_type": "code",
      "metadata": {
        "id": "tZAhU0FaXxQg",
        "colab_type": "code",
        "colab": {
          "base_uri": "https://localhost:8080/",
          "height": 0
        },
        "outputId": "21c5d6b9-3dbb-4dd4-baf8-77f8eef67574"
      },
      "source": [
        "yellow_teams.iloc[:10].plot(kind=\"bar\", figsize=(10,5),color=\"yellow\")\n",
        "plt.title(\"Teams with most yellow cards given\",fontsize=18)\n",
        "plt.xticks(fontsize=14)\n",
        "plt.show()"
      ],
      "execution_count": 19,
      "outputs": [
        {
          "output_type": "display_data",
          "data": {
            "image/png": "[encoded data removed]",
            "text/plain": [
              "<Figure size 720x360 with 1 Axes>"
            ]
          },
          "metadata": {
            "tags": []
          }
        }
      ]
    },
    {
      "cell_type": "markdown",
      "metadata": {
        "id": "zwHqugqTZes5",
        "colab_type": "text"
      },
      "source": [
        "It comes as no surprise that 9 out of the 10 teams that have gotten the most yellow cards are La Liga teams.\\\n",
        "What is surprising though is that Atletico Madrid is not the first!"
      ]
    },
    {
      "cell_type": "code",
      "metadata": {
        "id": "yyXYyI6vYZZi",
        "colab_type": "code",
        "colab": {
          "base_uri": "https://localhost:8080/",
          "height": 0
        },
        "outputId": "41657338-532b-4d57-f8f1-3171116b607a"
      },
      "source": [
        "red_teams.iloc[:10].plot(kind=\"bar\", figsize=(10,5),color=\"red\")\n",
        "plt.title(\"Teams with most yellow red given\",fontsize=18)\n",
        "plt.xticks(fontsize=14)\n",
        "plt.show()"
      ],
      "execution_count": 20,
      "outputs": [
        {
          "output_type": "display_data",
          "data": {
            "image/png": "[encoded data removed]",
            "text/plain": [
              "<Figure size 720x360 with 1 Axes>"
            ]
          },
          "metadata": {
            "tags": []
          }
        }
      ]
    },
    {
      "cell_type": "markdown",
      "metadata": {
        "id": "MNNlSmk5afay",
        "colab_type": "text"
      },
      "source": [
        "# II/ Players"
      ]
    },
    {
      "cell_type": "markdown",
      "metadata": {
        "id": "c-yf5xfta8fH",
        "colab_type": "text"
      },
      "source": [
        "#### Question 5: Who are the best scorers and best chance converters?"
      ]
    },
    {
      "cell_type": "code",
      "metadata": {
        "id": "9c41BKuibE5e",
        "colab_type": "code",
        "colab": {
          "base_uri": "https://localhost:8080/",
          "height": 0
        },
        "outputId": "433c15f5-58ab-4f29-f94e-5239fe924530"
      },
      "source": [
        "scorers=pd.DataFrame(data.groupby(['player'])['is_goal'].agg(\"sum\").sort_values().iloc[::-1])\n",
        "my_cmap = my_cmap = ListedColormap(sns.color_palette(\"OrRd\",8))\n",
        "scorers.iloc[:8].plot(kind=\"bar\", figsize=(10,5),cmap=my_cmap)\n",
        "plt.title(\"Best goal scorers\", fontsize=18)\n",
        "plt.xticks(fontsize=14)\n",
        "plt.show()"
      ],
      "execution_count": 21,
      "outputs": [
        {
          "output_type": "display_data",
          "data": {
            "image/png": "[encoded data removed]",
            "text/plain": [
              "<Figure size 720x360 with 1 Axes>"
            ]
          },
          "metadata": {
            "tags": []
          }
        }
      ]
    },
    {
      "cell_type": "markdown",
      "metadata": {
        "id": "_aMzMxo1emin",
        "colab_type": "text"
      },
      "source": [
        "Again, Ronaldo and Messi are the usual outliers. Zlatan and Lewa come behind.\\\n",
        "It's also nice to see Aubameyang on the list.\\\n",
        "Now we will look for the best converters out of these goal scorers"
      ]
    },
    {
      "cell_type": "code",
      "metadata": {
        "id": "a4N41qR1bExd",
        "colab_type": "code",
        "colab": {}
      },
      "source": [
        "total_chances=pd.DataFrame(data[data[\"event_type\"]==1].groupby(['player'])['event_type'].agg(\"sum\").sort_values().iloc[::-1])\n",
        "total_chances=total_chances.reindex(index=scorers.index)\n",
        "conversion_ratio=(scorers[\"is_goal\"]/total_chances[\"event_type\"])"
      ],
      "execution_count": 22,
      "outputs": []
    },
    {
      "cell_type": "code",
      "metadata": {
        "id": "gMBXfDnagDg9",
        "colab_type": "code",
        "colab": {
          "base_uri": "https://localhost:8080/",
          "height": 0
        },
        "outputId": "aa0d1e33-b03c-4761-bfde-c540c32ce101"
      },
      "source": [
        "my_cmap = my_cmap = ListedColormap(sns.color_palette(\"deep\",8))\n",
        "conversion_ratio.iloc[:8].sort_values().iloc[::-1].plot(kind=\"bar\", figsize=(10,5),cmap=my_cmap)\n",
        "plt.title(\"Best chance converters from the top scorers\", fontsize=18)\n",
        "plt.xticks(fontsize=14)\n",
        "plt.show()"
      ],
      "execution_count": 23,
      "outputs": [
        {
          "output_type": "display_data",
          "data": {
            "image/png": "[encoded data removed]",
            "text/plain": [
              "<Figure size 720x360 with 1 Axes>"
            ]
          },
          "metadata": {
            "tags": []
          }
        }
      ]
    },
    {
      "cell_type": "markdown",
      "metadata": {
        "id": "5XqUV-nDieDh",
        "colab_type": "text"
      },
      "source": [
        "#### Question 6: Who are the most violent players?"
      ]
    },
    {
      "cell_type": "code",
      "metadata": {
        "id": "yTampWAYidgy",
        "colab_type": "code",
        "colab": {}
      },
      "source": [
        "yellow_players=pd.DataFrame(yellow[\"player\"].value_counts())"
      ],
      "execution_count": 24,
      "outputs": []
    },
    {
      "cell_type": "code",
      "metadata": {
        "id": "hh_vyDKbidl8",
        "colab_type": "code",
        "colab": {
          "base_uri": "https://localhost:8080/",
          "height": 0
        },
        "outputId": "aae1be5b-2814-44d6-a28b-88f6318b08ee"
      },
      "source": [
        "yellow_players.iloc[:10].plot(kind=\"bar\", figsize=(10,5),color=\"yellow\")\n",
        "plt.title(\"Players with most yellow cards given\",fontsize=18)\n",
        "plt.xticks(fontsize=14)\n",
        "plt.show()"
      ],
      "execution_count": 25,
      "outputs": [
        {
          "output_type": "display_data",
          "data": {
            "image/png": "[encoded data removed]",
            "text/plain": [
              "<Figure size 720x360 with 1 Axes>"
            ]
          },
          "metadata": {
            "tags": []
          }
        }
      ]
    },
    {
      "cell_type": "markdown",
      "metadata": {
        "id": "k33cUc9lkb7U",
        "colab_type": "text"
      },
      "source": [
        "# III/ Predicting match results"
      ]
    },
    {
      "cell_type": "markdown",
      "metadata": {
        "id": "mO7KZN7Ul34S",
        "colab_type": "text"
      },
      "source": [
        "## 1) Creating a match score dataset"
      ]
    },
    {
      "cell_type": "code",
      "metadata": {
        "id": "7YxFO-ididj0",
        "colab_type": "code",
        "colab": {}
      },
      "source": [
        "scores=pd.DataFrame(data.groupby(['id_odsp','event_team'])['is_goal'].agg(\"sum\"))"
      ],
      "execution_count": 26,
      "outputs": []
    },
    {
      "cell_type": "code",
      "metadata": {
        "id": "RUTQtsvChbBb",
        "colab_type": "code",
        "colab": {}
      },
      "source": [
        "scores.reset_index(inplace=True)"
      ],
      "execution_count": 27,
      "outputs": []
    },
    {
      "cell_type": "code",
      "metadata": {
        "id": "AxuPLDYMhoP0",
        "colab_type": "code",
        "colab": {
          "base_uri": "https://localhost:8080/",
          "height": 206
        },
        "outputId": "14ffa64a-3915-4b74-d107-4229fe506a5d"
      },
      "source": [
        "scores.head()"
      ],
      "execution_count": 28,
      "outputs": [
        {
          "output_type": "execute_result",
          "data": {
            "text/html": [
              "<div>\n",
              "<style scoped>\n",
              "    .dataframe tbody tr th:only-of-type {\n",
              "        vertical-align: middle;\n",
              "    }\n",
              "\n",
              "    .dataframe tbody tr th {\n",
              "        vertical-align: top;\n",
              "    }\n",
              "\n",
              "    .dataframe thead th {\n",
              "        text-align: right;\n",
              "    }\n",
              "</style>\n",
              "<table border=\"1\" class=\"dataframe\">\n",
              "  <thead>\n",
              "    <tr style=\"text-align: right;\">\n",
              "      <th></th>\n",
              "      <th>id_odsp</th>\n",
              "      <th>event_team</th>\n",
              "      <th>is_goal</th>\n",
              "    </tr>\n",
              "  </thead>\n",
              "  <tbody>\n",
              "    <tr>\n",
              "      <th>0</th>\n",
              "      <td>004f4ING/</td>\n",
              "      <td>Southampton</td>\n",
              "      <td>0</td>\n",
              "    </tr>\n",
              "    <tr>\n",
              "      <th>1</th>\n",
              "      <td>004f4ING/</td>\n",
              "      <td>Swansea</td>\n",
              "      <td>1</td>\n",
              "    </tr>\n",
              "    <tr>\n",
              "      <th>2</th>\n",
              "      <td>00LMl81F/</td>\n",
              "      <td>AC Milan</td>\n",
              "      <td>3</td>\n",
              "    </tr>\n",
              "    <tr>\n",
              "      <th>3</th>\n",
              "      <td>00LMl81F/</td>\n",
              "      <td>AS Roma</td>\n",
              "      <td>2</td>\n",
              "    </tr>\n",
              "    <tr>\n",
              "      <th>4</th>\n",
              "      <td>00OX4xFp/</td>\n",
              "      <td>AS Monaco</td>\n",
              "      <td>0</td>\n",
              "    </tr>\n",
              "  </tbody>\n",
              "</table>\n",
              "</div>"
            ],
            "text/plain": [
              "     id_odsp   event_team  is_goal\n",
              "0  004f4ING/  Southampton        0\n",
              "1  004f4ING/      Swansea        1\n",
              "2  00LMl81F/     AC Milan        3\n",
              "3  00LMl81F/      AS Roma        2\n",
              "4  00OX4xFp/    AS Monaco        0"
            ]
          },
          "metadata": {
            "tags": []
          },
          "execution_count": 28
        }
      ]
    },
    {
      "cell_type": "code",
      "metadata": {
        "id": "5KvMWBAUpNrR",
        "colab_type": "code",
        "colab": {}
      },
      "source": [
        "teams=data[\"event_team\"].unique()"
      ],
      "execution_count": 29,
      "outputs": []
    },
    {
      "cell_type": "code",
      "metadata": {
        "id": "OntRVEMAos5O",
        "colab_type": "code",
        "colab": {}
      },
      "source": [
        "one_hot_teams=pd.get_dummies(teams)"
      ],
      "execution_count": 30,
      "outputs": []
    },
    {
      "cell_type": "code",
      "metadata": {
        "id": "qJ0VAMBsikMV",
        "colab_type": "code",
        "colab": {}
      },
      "source": [
        "home_team=[scores.iloc[i*2][\"event_team\"] for i in range(scores.shape[0]//2)]\n",
        "away_team=[scores.iloc[(i*2)+1][\"event_team\"] for i in range(scores.shape[0]//2)]\n",
        "\n",
        "first_team_enc=pd.get_dummies(home_team)\n",
        "second_team_enc=pd.get_dummies(away_team)\n",
        "\n",
        "ind=[scores[\"id_odsp\"].iloc[i*2] for i in range(scores.shape[0]//2)]"
      ],
      "execution_count": 31,
      "outputs": []
    },
    {
      "cell_type": "code",
      "metadata": {
        "id": "mAum9BXHlVhZ",
        "colab_type": "code",
        "colab": {}
      },
      "source": [
        "l=[]\n",
        "for i in range(scores.shape[0]//2):\n",
        "  if scores.iloc[i*2][\"is_goal\"]>scores.iloc[(i*2)+1][\"is_goal\"]:\n",
        "    l.append(1)\n",
        "  elif scores.iloc[i*2][\"is_goal\"]<scores.iloc[(i*2)+1][\"is_goal\"]:\n",
        "    l.append(-1)\n",
        "  else:\n",
        "    l.append(0)"
      ],
      "execution_count": 32,
      "outputs": []
    },
    {
      "cell_type": "code",
      "metadata": {
        "id": "hv5KoKXxnjA4",
        "colab_type": "code",
        "colab": {}
      },
      "source": [
        "model_data=pd.DataFrame({\n",
        "    'id_odsp':ind,\n",
        "    'first_team':home_team,\n",
        "    'second_team':away_team,\n",
        "    'outcome':l\n",
        "    })\n",
        "model_data_one_hot=pd.get_dummies(model_data.drop([\"id_odsp\"],axis=1))"
      ],
      "execution_count": 33,
      "outputs": []
    },
    {
      "cell_type": "code",
      "metadata": {
        "id": "yyxIVmgHoVcS",
        "colab_type": "code",
        "colab": {
          "base_uri": "https://localhost:8080/",
          "height": 206
        },
        "outputId": "755347ca-75d3-47fe-fb6a-b2935abf6a08"
      },
      "source": [
        "model_data.head()"
      ],
      "execution_count": 34,
      "outputs": [
        {
          "output_type": "execute_result",
          "data": {
            "text/html": [
              "<div>\n",
              "<style scoped>\n",
              "    .dataframe tbody tr th:only-of-type {\n",
              "        vertical-align: middle;\n",
              "    }\n",
              "\n",
              "    .dataframe tbody tr th {\n",
              "        vertical-align: top;\n",
              "    }\n",
              "\n",
              "    .dataframe thead th {\n",
              "        text-align: right;\n",
              "    }\n",
              "</style>\n",
              "<table border=\"1\" class=\"dataframe\">\n",
              "  <thead>\n",
              "    <tr style=\"text-align: right;\">\n",
              "      <th></th>\n",
              "      <th>id_odsp</th>\n",
              "      <th>first_team</th>\n",
              "      <th>second_team</th>\n",
              "      <th>outcome</th>\n",
              "    </tr>\n",
              "  </thead>\n",
              "  <tbody>\n",
              "    <tr>\n",
              "      <th>0</th>\n",
              "      <td>004f4ING/</td>\n",
              "      <td>Southampton</td>\n",
              "      <td>Swansea</td>\n",
              "      <td>-1</td>\n",
              "    </tr>\n",
              "    <tr>\n",
              "      <th>1</th>\n",
              "      <td>00LMl81F/</td>\n",
              "      <td>AC Milan</td>\n",
              "      <td>AS Roma</td>\n",
              "      <td>1</td>\n",
              "    </tr>\n",
              "    <tr>\n",
              "      <th>2</th>\n",
              "      <td>00OX4xFp/</td>\n",
              "      <td>AS Monaco</td>\n",
              "      <td>Lille</td>\n",
              "      <td>0</td>\n",
              "    </tr>\n",
              "    <tr>\n",
              "      <th>3</th>\n",
              "      <td>00QH2XdM/</td>\n",
              "      <td>Evian Thonon Gaillard</td>\n",
              "      <td>Stade de Reims</td>\n",
              "      <td>-1</td>\n",
              "    </tr>\n",
              "    <tr>\n",
              "      <th>4</th>\n",
              "      <td>00QL4t1L/</td>\n",
              "      <td>Borussia Dortmund</td>\n",
              "      <td>FC Ingolstadt 04</td>\n",
              "      <td>1</td>\n",
              "    </tr>\n",
              "  </tbody>\n",
              "</table>\n",
              "</div>"
            ],
            "text/plain": [
              "     id_odsp             first_team       second_team  outcome\n",
              "0  004f4ING/            Southampton           Swansea       -1\n",
              "1  00LMl81F/               AC Milan           AS Roma        1\n",
              "2  00OX4xFp/              AS Monaco             Lille        0\n",
              "3  00QH2XdM/  Evian Thonon Gaillard    Stade de Reims       -1\n",
              "4  00QL4t1L/      Borussia Dortmund  FC Ingolstadt 04        1"
            ]
          },
          "metadata": {
            "tags": []
          },
          "execution_count": 34
        }
      ]
    },
    {
      "cell_type": "markdown",
      "metadata": {
        "id": "uEpGMSuop88W",
        "colab_type": "text"
      },
      "source": [
        "## 2) Simple model"
      ]
    },
    {
      "cell_type": "code",
      "metadata": {
        "id": "cgqByUJNoa_E",
        "colab_type": "code",
        "colab": {}
      },
      "source": [
        "train_X, val_X, train_y, val_y = train_test_split(model_data_one_hot.drop([\"outcome\"],axis=1),model_data_one_hot[\"outcome\"] , test_size=0.20, random_state=4)"
      ],
      "execution_count": 35,
      "outputs": []
    },
    {
      "cell_type": "code",
      "metadata": {
        "id": "NU8YbsRVrVFW",
        "colab_type": "code",
        "colab": {
          "base_uri": "https://localhost:8080/",
          "height": 36
        },
        "outputId": "d7d06c22-bdc1-406d-d655-98bc1824b9b4"
      },
      "source": [
        "import xgboost as xgb\n",
        "model = xgb.XGBClassifier(gamma=0, objective='multi:softprob',\n",
        "                          learning_rate=0.01,max_depth=10, \n",
        "                          n_estimators=500,\n",
        "                          tree_method='gpu_hist') \n",
        "model.fit(train_X, train_y)\n",
        "y_pred = model.predict(val_X) \n",
        "accuracy = accuracy_score(val_y, y_pred) \n",
        "print(\"Accuracy: %.2f%%\" % (accuracy * 100.0))"
      ],
      "execution_count": 36,
      "outputs": [
        {
          "output_type": "stream",
          "text": [
            "Accuracy: 45.73%\n"
          ],
          "name": "stdout"
        }
      ]
    },
    {
      "cell_type": "markdown",
      "metadata": {
        "id": "7RsH1NQl0-5v",
        "colab_type": "text"
      },
      "source": [
        "## 3) Adding events to the model"
      ]
    },
    {
      "cell_type": "code",
      "metadata": {
        "id": "13vaIEoTrZYr",
        "colab_type": "code",
        "colab": {}
      },
      "source": [
        "events_home=[[0 for j in range(len(ind))] for i in range(data[\"event_type\"].nunique())]\n",
        "events_away=[[0 for j in range(len(ind))] for i in range(data[\"event_type\"].nunique())]\n",
        "\n",
        "for match in ind:\n",
        "  id=ind.index(match)\n",
        "  sides=data[data[\"id_odsp\"]==match][\"event_team\"].unique()\n",
        "  chances1=data[data[\"id_odsp\"]==match][data[data[\"id_odsp\"]==match][\"event_team\"]==sides[0]][\"event_type\"].value_counts()\n",
        "  chances1=chances1.reset_index()\n",
        "  chances2=data[data[\"id_odsp\"]==match][data[data[\"id_odsp\"]==match][\"event_team\"]==sides[0]][\"event_type\"].value_counts()\n",
        "  chances2=chances2.reset_index()\n",
        "  for event in chances1[\"index\"]:\n",
        "    events_home[event-1][id]=chances1[chances1[\"index\"]==event][\"event_type\"].value_counts()\n",
        "  for event in chances2[\"index\"]:\n",
        "    events_away[event-1][id]=chances2[chances2[\"index\"]==event][\"event_type\"].value_counts()"
      ],
      "execution_count": null,
      "outputs": []
    },
    {
      "cell_type": "code",
      "metadata": {
        "id": "gyAACgONYMbj",
        "colab_type": "code",
        "colab": {}
      },
      "source": [
        "events_home\n",
        "for k in events_home:\n",
        "  for i in range(len(k)):\n",
        "    if not isinstance(k[i],int):\n",
        "      ll=k[i].tolist()\n",
        "      k[i]=ll[0]\n",
        "\n",
        "for k in events_away:\n",
        "  for i in range(len(k)):\n",
        "    if not isinstance(k[i],int):\n",
        "      ll=k[i].tolist()\n",
        "      k[i]=ll[0]"
      ],
      "execution_count": null,
      "outputs": []
    },
    {
      "cell_type": "code",
      "metadata": {
        "id": "GhHJ55RctvSw",
        "colab_type": "code",
        "colab": {}
      },
      "source": [
        "#backup=pd.DataFrame([events_home,events_away])\n",
        "#backup.to_csv('/content/drive/My Drive/Football events/backup events.csv')"
      ],
      "execution_count": null,
      "outputs": []
    },
    {
      "cell_type": "code",
      "metadata": {
        "id": "R-aYerpwDMxK",
        "colab_type": "code",
        "colab": {}
      },
      "source": [
        "for i in range(len(events_home)):\n",
        "  col=\"home\"+str(i)\n",
        "\n",
        "  model_data[col]=events_home[i]\n",
        "\n",
        "for i in range(len(events_away)):\n",
        "  col=\"away\"+str(i)\n",
        "  #model_data[col]=events_away[i]"
      ],
      "execution_count": null,
      "outputs": []
    },
    {
      "cell_type": "code",
      "metadata": {
        "id": "t-QtBHmcvzHZ",
        "colab_type": "code",
        "colab": {
          "base_uri": "https://localhost:8080/",
          "height": 291
        },
        "outputId": "397b4d7d-36b1-45d1-ae97-1cccfe9ddc79"
      },
      "source": [
        "model_data.head()"
      ],
      "execution_count": null,
      "outputs": [
        {
          "output_type": "execute_result",
          "data": {
            "text/html": [
              "<div>\n",
              "<style scoped>\n",
              "    .dataframe tbody tr th:only-of-type {\n",
              "        vertical-align: middle;\n",
              "    }\n",
              "\n",
              "    .dataframe tbody tr th {\n",
              "        vertical-align: top;\n",
              "    }\n",
              "\n",
              "    .dataframe thead th {\n",
              "        text-align: right;\n",
              "    }\n",
              "</style>\n",
              "<table border=\"1\" class=\"dataframe\">\n",
              "  <thead>\n",
              "    <tr style=\"text-align: right;\">\n",
              "      <th></th>\n",
              "      <th>outcome</th>\n",
              "      <th>first_team_AC Ajaccio</th>\n",
              "      <th>first_team_AC Milan</th>\n",
              "      <th>first_team_AJ Auxerre</th>\n",
              "      <th>first_team_AS Monaco</th>\n",
              "      <th>first_team_AS Nancy Lorraine</th>\n",
              "      <th>first_team_AS Roma</th>\n",
              "      <th>first_team_Alaves</th>\n",
              "      <th>first_team_Almeria</th>\n",
              "      <th>first_team_Angers</th>\n",
              "      <th>first_team_Arsenal</th>\n",
              "      <th>first_team_Aston Villa</th>\n",
              "      <th>first_team_Atalanta</th>\n",
              "      <th>first_team_Athletic Bilbao</th>\n",
              "      <th>first_team_Atletico Madrid</th>\n",
              "      <th>first_team_Barcelona</th>\n",
              "      <th>first_team_Bastia</th>\n",
              "      <th>first_team_Bayer Leverkusen</th>\n",
              "      <th>first_team_Bayern Munich</th>\n",
              "      <th>first_team_Bologna</th>\n",
              "      <th>first_team_Bordeaux</th>\n",
              "      <th>first_team_Borussia Dortmund</th>\n",
              "      <th>first_team_Borussia Monchengladbach</th>\n",
              "      <th>first_team_Bournemouth</th>\n",
              "      <th>first_team_Brest</th>\n",
              "      <th>first_team_Burnley</th>\n",
              "      <th>first_team_Caen</th>\n",
              "      <th>first_team_Cagliari</th>\n",
              "      <th>first_team_Cardiff</th>\n",
              "      <th>first_team_Carpi</th>\n",
              "      <th>first_team_Catania</th>\n",
              "      <th>first_team_Celta Vigo</th>\n",
              "      <th>first_team_Cesena</th>\n",
              "      <th>first_team_Chelsea</th>\n",
              "      <th>first_team_Chievo Verona</th>\n",
              "      <th>first_team_Cordoba</th>\n",
              "      <th>first_team_Crotone</th>\n",
              "      <th>first_team_Crystal Palace</th>\n",
              "      <th>first_team_Deportivo La Coruna</th>\n",
              "      <th>first_team_Dijon FCO</th>\n",
              "      <th>...</th>\n",
              "      <th>second_team_Swansea</th>\n",
              "      <th>second_team_TSG Hoffenheim</th>\n",
              "      <th>second_team_TSV Eintracht Braunschweig</th>\n",
              "      <th>second_team_Torino</th>\n",
              "      <th>second_team_Tottenham</th>\n",
              "      <th>second_team_Toulouse</th>\n",
              "      <th>second_team_Troyes</th>\n",
              "      <th>second_team_US Pescara</th>\n",
              "      <th>second_team_Udinese</th>\n",
              "      <th>second_team_Valencia</th>\n",
              "      <th>second_team_Valenciennes</th>\n",
              "      <th>second_team_VfB Stuttgart</th>\n",
              "      <th>second_team_VfL Wolfsburg</th>\n",
              "      <th>second_team_Villarreal</th>\n",
              "      <th>second_team_Watford</th>\n",
              "      <th>second_team_Werder Bremen</th>\n",
              "      <th>second_team_West Brom</th>\n",
              "      <th>second_team_West Ham</th>\n",
              "      <th>home0</th>\n",
              "      <th>home1</th>\n",
              "      <th>home2</th>\n",
              "      <th>home3</th>\n",
              "      <th>home4</th>\n",
              "      <th>home5</th>\n",
              "      <th>home6</th>\n",
              "      <th>home7</th>\n",
              "      <th>home8</th>\n",
              "      <th>home9</th>\n",
              "      <th>home10</th>\n",
              "      <th>away0</th>\n",
              "      <th>away1</th>\n",
              "      <th>away2</th>\n",
              "      <th>away3</th>\n",
              "      <th>away4</th>\n",
              "      <th>away5</th>\n",
              "      <th>away6</th>\n",
              "      <th>away7</th>\n",
              "      <th>away8</th>\n",
              "      <th>away9</th>\n",
              "      <th>away10</th>\n",
              "    </tr>\n",
              "  </thead>\n",
              "  <tbody>\n",
              "    <tr>\n",
              "      <th>0</th>\n",
              "      <td>-1</td>\n",
              "      <td>0</td>\n",
              "      <td>0</td>\n",
              "      <td>0</td>\n",
              "      <td>0</td>\n",
              "      <td>0</td>\n",
              "      <td>0</td>\n",
              "      <td>0</td>\n",
              "      <td>0</td>\n",
              "      <td>0</td>\n",
              "      <td>0</td>\n",
              "      <td>0</td>\n",
              "      <td>0</td>\n",
              "      <td>0</td>\n",
              "      <td>0</td>\n",
              "      <td>0</td>\n",
              "      <td>0</td>\n",
              "      <td>0</td>\n",
              "      <td>0</td>\n",
              "      <td>0</td>\n",
              "      <td>0</td>\n",
              "      <td>0</td>\n",
              "      <td>0</td>\n",
              "      <td>0</td>\n",
              "      <td>0</td>\n",
              "      <td>0</td>\n",
              "      <td>0</td>\n",
              "      <td>0</td>\n",
              "      <td>0</td>\n",
              "      <td>0</td>\n",
              "      <td>0</td>\n",
              "      <td>0</td>\n",
              "      <td>0</td>\n",
              "      <td>0</td>\n",
              "      <td>0</td>\n",
              "      <td>0</td>\n",
              "      <td>0</td>\n",
              "      <td>0</td>\n",
              "      <td>0</td>\n",
              "      <td>0</td>\n",
              "      <td>...</td>\n",
              "      <td>1</td>\n",
              "      <td>0</td>\n",
              "      <td>0</td>\n",
              "      <td>0</td>\n",
              "      <td>0</td>\n",
              "      <td>0</td>\n",
              "      <td>0</td>\n",
              "      <td>0</td>\n",
              "      <td>0</td>\n",
              "      <td>0</td>\n",
              "      <td>0</td>\n",
              "      <td>0</td>\n",
              "      <td>0</td>\n",
              "      <td>0</td>\n",
              "      <td>0</td>\n",
              "      <td>0</td>\n",
              "      <td>0</td>\n",
              "      <td>0</td>\n",
              "      <td>6</td>\n",
              "      <td>0</td>\n",
              "      <td>1</td>\n",
              "      <td>1</td>\n",
              "      <td>0</td>\n",
              "      <td>0</td>\n",
              "      <td>1</td>\n",
              "      <td>1</td>\n",
              "      <td>1</td>\n",
              "      <td>0</td>\n",
              "      <td>0</td>\n",
              "      <td>1</td>\n",
              "      <td>0</td>\n",
              "      <td>1</td>\n",
              "      <td>1</td>\n",
              "      <td>0</td>\n",
              "      <td>0</td>\n",
              "      <td>1</td>\n",
              "      <td>1</td>\n",
              "      <td>1</td>\n",
              "      <td>0</td>\n",
              "      <td>0</td>\n",
              "    </tr>\n",
              "    <tr>\n",
              "      <th>1</th>\n",
              "      <td>1</td>\n",
              "      <td>0</td>\n",
              "      <td>1</td>\n",
              "      <td>0</td>\n",
              "      <td>0</td>\n",
              "      <td>0</td>\n",
              "      <td>0</td>\n",
              "      <td>0</td>\n",
              "      <td>0</td>\n",
              "      <td>0</td>\n",
              "      <td>0</td>\n",
              "      <td>0</td>\n",
              "      <td>0</td>\n",
              "      <td>0</td>\n",
              "      <td>0</td>\n",
              "      <td>0</td>\n",
              "      <td>0</td>\n",
              "      <td>0</td>\n",
              "      <td>0</td>\n",
              "      <td>0</td>\n",
              "      <td>0</td>\n",
              "      <td>0</td>\n",
              "      <td>0</td>\n",
              "      <td>0</td>\n",
              "      <td>0</td>\n",
              "      <td>0</td>\n",
              "      <td>0</td>\n",
              "      <td>0</td>\n",
              "      <td>0</td>\n",
              "      <td>0</td>\n",
              "      <td>0</td>\n",
              "      <td>0</td>\n",
              "      <td>0</td>\n",
              "      <td>0</td>\n",
              "      <td>0</td>\n",
              "      <td>0</td>\n",
              "      <td>0</td>\n",
              "      <td>0</td>\n",
              "      <td>0</td>\n",
              "      <td>0</td>\n",
              "      <td>...</td>\n",
              "      <td>0</td>\n",
              "      <td>0</td>\n",
              "      <td>0</td>\n",
              "      <td>0</td>\n",
              "      <td>0</td>\n",
              "      <td>0</td>\n",
              "      <td>0</td>\n",
              "      <td>0</td>\n",
              "      <td>0</td>\n",
              "      <td>0</td>\n",
              "      <td>0</td>\n",
              "      <td>0</td>\n",
              "      <td>0</td>\n",
              "      <td>0</td>\n",
              "      <td>0</td>\n",
              "      <td>0</td>\n",
              "      <td>0</td>\n",
              "      <td>0</td>\n",
              "      <td>15</td>\n",
              "      <td>1</td>\n",
              "      <td>1</td>\n",
              "      <td>1</td>\n",
              "      <td>0</td>\n",
              "      <td>1</td>\n",
              "      <td>1</td>\n",
              "      <td>1</td>\n",
              "      <td>1</td>\n",
              "      <td>0</td>\n",
              "      <td>0</td>\n",
              "      <td>1</td>\n",
              "      <td>1</td>\n",
              "      <td>1</td>\n",
              "      <td>1</td>\n",
              "      <td>0</td>\n",
              "      <td>1</td>\n",
              "      <td>1</td>\n",
              "      <td>1</td>\n",
              "      <td>1</td>\n",
              "      <td>0</td>\n",
              "      <td>0</td>\n",
              "    </tr>\n",
              "    <tr>\n",
              "      <th>2</th>\n",
              "      <td>0</td>\n",
              "      <td>0</td>\n",
              "      <td>0</td>\n",
              "      <td>0</td>\n",
              "      <td>1</td>\n",
              "      <td>0</td>\n",
              "      <td>0</td>\n",
              "      <td>0</td>\n",
              "      <td>0</td>\n",
              "      <td>0</td>\n",
              "      <td>0</td>\n",
              "      <td>0</td>\n",
              "      <td>0</td>\n",
              "      <td>0</td>\n",
              "      <td>0</td>\n",
              "      <td>0</td>\n",
              "      <td>0</td>\n",
              "      <td>0</td>\n",
              "      <td>0</td>\n",
              "      <td>0</td>\n",
              "      <td>0</td>\n",
              "      <td>0</td>\n",
              "      <td>0</td>\n",
              "      <td>0</td>\n",
              "      <td>0</td>\n",
              "      <td>0</td>\n",
              "      <td>0</td>\n",
              "      <td>0</td>\n",
              "      <td>0</td>\n",
              "      <td>0</td>\n",
              "      <td>0</td>\n",
              "      <td>0</td>\n",
              "      <td>0</td>\n",
              "      <td>0</td>\n",
              "      <td>0</td>\n",
              "      <td>0</td>\n",
              "      <td>0</td>\n",
              "      <td>0</td>\n",
              "      <td>0</td>\n",
              "      <td>0</td>\n",
              "      <td>...</td>\n",
              "      <td>0</td>\n",
              "      <td>0</td>\n",
              "      <td>0</td>\n",
              "      <td>0</td>\n",
              "      <td>0</td>\n",
              "      <td>0</td>\n",
              "      <td>0</td>\n",
              "      <td>0</td>\n",
              "      <td>0</td>\n",
              "      <td>0</td>\n",
              "      <td>0</td>\n",
              "      <td>0</td>\n",
              "      <td>0</td>\n",
              "      <td>0</td>\n",
              "      <td>0</td>\n",
              "      <td>0</td>\n",
              "      <td>0</td>\n",
              "      <td>0</td>\n",
              "      <td>9</td>\n",
              "      <td>1</td>\n",
              "      <td>1</td>\n",
              "      <td>1</td>\n",
              "      <td>0</td>\n",
              "      <td>0</td>\n",
              "      <td>1</td>\n",
              "      <td>1</td>\n",
              "      <td>1</td>\n",
              "      <td>1</td>\n",
              "      <td>0</td>\n",
              "      <td>1</td>\n",
              "      <td>1</td>\n",
              "      <td>1</td>\n",
              "      <td>1</td>\n",
              "      <td>0</td>\n",
              "      <td>0</td>\n",
              "      <td>1</td>\n",
              "      <td>1</td>\n",
              "      <td>1</td>\n",
              "      <td>1</td>\n",
              "      <td>0</td>\n",
              "    </tr>\n",
              "    <tr>\n",
              "      <th>3</th>\n",
              "      <td>-1</td>\n",
              "      <td>0</td>\n",
              "      <td>0</td>\n",
              "      <td>0</td>\n",
              "      <td>0</td>\n",
              "      <td>0</td>\n",
              "      <td>0</td>\n",
              "      <td>0</td>\n",
              "      <td>0</td>\n",
              "      <td>0</td>\n",
              "      <td>0</td>\n",
              "      <td>0</td>\n",
              "      <td>0</td>\n",
              "      <td>0</td>\n",
              "      <td>0</td>\n",
              "      <td>0</td>\n",
              "      <td>0</td>\n",
              "      <td>0</td>\n",
              "      <td>0</td>\n",
              "      <td>0</td>\n",
              "      <td>0</td>\n",
              "      <td>0</td>\n",
              "      <td>0</td>\n",
              "      <td>0</td>\n",
              "      <td>0</td>\n",
              "      <td>0</td>\n",
              "      <td>0</td>\n",
              "      <td>0</td>\n",
              "      <td>0</td>\n",
              "      <td>0</td>\n",
              "      <td>0</td>\n",
              "      <td>0</td>\n",
              "      <td>0</td>\n",
              "      <td>0</td>\n",
              "      <td>0</td>\n",
              "      <td>0</td>\n",
              "      <td>0</td>\n",
              "      <td>0</td>\n",
              "      <td>0</td>\n",
              "      <td>0</td>\n",
              "      <td>...</td>\n",
              "      <td>0</td>\n",
              "      <td>0</td>\n",
              "      <td>0</td>\n",
              "      <td>0</td>\n",
              "      <td>0</td>\n",
              "      <td>0</td>\n",
              "      <td>0</td>\n",
              "      <td>0</td>\n",
              "      <td>0</td>\n",
              "      <td>0</td>\n",
              "      <td>0</td>\n",
              "      <td>0</td>\n",
              "      <td>0</td>\n",
              "      <td>0</td>\n",
              "      <td>0</td>\n",
              "      <td>0</td>\n",
              "      <td>0</td>\n",
              "      <td>0</td>\n",
              "      <td>14</td>\n",
              "      <td>1</td>\n",
              "      <td>1</td>\n",
              "      <td>1</td>\n",
              "      <td>0</td>\n",
              "      <td>0</td>\n",
              "      <td>1</td>\n",
              "      <td>1</td>\n",
              "      <td>0</td>\n",
              "      <td>1</td>\n",
              "      <td>0</td>\n",
              "      <td>1</td>\n",
              "      <td>1</td>\n",
              "      <td>1</td>\n",
              "      <td>1</td>\n",
              "      <td>0</td>\n",
              "      <td>0</td>\n",
              "      <td>1</td>\n",
              "      <td>1</td>\n",
              "      <td>0</td>\n",
              "      <td>1</td>\n",
              "      <td>0</td>\n",
              "    </tr>\n",
              "    <tr>\n",
              "      <th>4</th>\n",
              "      <td>1</td>\n",
              "      <td>0</td>\n",
              "      <td>0</td>\n",
              "      <td>0</td>\n",
              "      <td>0</td>\n",
              "      <td>0</td>\n",
              "      <td>0</td>\n",
              "      <td>0</td>\n",
              "      <td>0</td>\n",
              "      <td>0</td>\n",
              "      <td>0</td>\n",
              "      <td>0</td>\n",
              "      <td>0</td>\n",
              "      <td>0</td>\n",
              "      <td>0</td>\n",
              "      <td>0</td>\n",
              "      <td>0</td>\n",
              "      <td>0</td>\n",
              "      <td>0</td>\n",
              "      <td>0</td>\n",
              "      <td>0</td>\n",
              "      <td>1</td>\n",
              "      <td>0</td>\n",
              "      <td>0</td>\n",
              "      <td>0</td>\n",
              "      <td>0</td>\n",
              "      <td>0</td>\n",
              "      <td>0</td>\n",
              "      <td>0</td>\n",
              "      <td>0</td>\n",
              "      <td>0</td>\n",
              "      <td>0</td>\n",
              "      <td>0</td>\n",
              "      <td>0</td>\n",
              "      <td>0</td>\n",
              "      <td>0</td>\n",
              "      <td>0</td>\n",
              "      <td>0</td>\n",
              "      <td>0</td>\n",
              "      <td>0</td>\n",
              "      <td>...</td>\n",
              "      <td>0</td>\n",
              "      <td>0</td>\n",
              "      <td>0</td>\n",
              "      <td>0</td>\n",
              "      <td>0</td>\n",
              "      <td>0</td>\n",
              "      <td>0</td>\n",
              "      <td>0</td>\n",
              "      <td>0</td>\n",
              "      <td>0</td>\n",
              "      <td>0</td>\n",
              "      <td>0</td>\n",
              "      <td>0</td>\n",
              "      <td>0</td>\n",
              "      <td>0</td>\n",
              "      <td>0</td>\n",
              "      <td>0</td>\n",
              "      <td>0</td>\n",
              "      <td>11</td>\n",
              "      <td>1</td>\n",
              "      <td>1</td>\n",
              "      <td>1</td>\n",
              "      <td>0</td>\n",
              "      <td>0</td>\n",
              "      <td>1</td>\n",
              "      <td>1</td>\n",
              "      <td>1</td>\n",
              "      <td>0</td>\n",
              "      <td>0</td>\n",
              "      <td>1</td>\n",
              "      <td>1</td>\n",
              "      <td>1</td>\n",
              "      <td>1</td>\n",
              "      <td>0</td>\n",
              "      <td>0</td>\n",
              "      <td>1</td>\n",
              "      <td>1</td>\n",
              "      <td>1</td>\n",
              "      <td>0</td>\n",
              "      <td>0</td>\n",
              "    </tr>\n",
              "  </tbody>\n",
              "</table>\n",
              "<p>5 rows × 296 columns</p>\n",
              "</div>"
            ],
            "text/plain": [
              "   outcome  first_team_AC Ajaccio  first_team_AC Milan  ...  away8  away9  away10\n",
              "0       -1                      0                    0  ...      1      0       0\n",
              "1        1                      0                    1  ...      1      0       0\n",
              "2        0                      0                    0  ...      1      1       0\n",
              "3       -1                      0                    0  ...      0      1       0\n",
              "4        1                      0                    0  ...      1      0       0\n",
              "\n",
              "[5 rows x 296 columns]"
            ]
          },
          "metadata": {
            "tags": []
          },
          "execution_count": 261
        }
      ]
    },
    {
      "cell_type": "code",
      "metadata": {
        "id": "fT-lffhVIn-i",
        "colab_type": "code",
        "colab": {}
      },
      "source": [
        "#model_data.to_csv('/content/drive/My Drive/Football events/model_data.csv')"
      ],
      "execution_count": null,
      "outputs": []
    },
    {
      "cell_type": "code",
      "metadata": {
        "id": "S4g_dWjYrZTG",
        "colab_type": "code",
        "colab": {}
      },
      "source": [
        "sides=data[data[\"id_odsp\"]==ind[0]][\"event_team\"].unique()\n",
        "chances=data[data[\"id_odsp\"]==ind[0]][data[data[\"id_odsp\"]==ind[0]][\"event_team\"]==sides[0]][\"event_type\"].value_counts()\n",
        "chances=chances.reset_index()"
      ],
      "execution_count": null,
      "outputs": []
    },
    {
      "cell_type": "code",
      "metadata": {
        "id": "ykO4v_cs_4Lv",
        "colab_type": "code",
        "colab": {}
      },
      "source": [
        "#model_data=pd.read_csv('/content/drive/My Drive/Football events/model_data.csv')"
      ],
      "execution_count": null,
      "outputs": []
    },
    {
      "cell_type": "code",
      "metadata": {
        "id": "NySq5clzhF5r",
        "colab_type": "code",
        "colab": {}
      },
      "source": [
        "model_data_one_hot=pd.get_dummies(model_data.drop([\"id_odsp\"],axis=1))"
      ],
      "execution_count": null,
      "outputs": []
    },
    {
      "cell_type": "code",
      "metadata": {
        "id": "GpUpA5UGg_xG",
        "colab_type": "code",
        "colab": {}
      },
      "source": [
        "train_X, val_X, train_y, val_y = train_test_split(model_data.drop([\"outcome\"],axis=1),model_data[\"outcome\"] , test_size=0.20, random_state=4)"
      ],
      "execution_count": null,
      "outputs": []
    },
    {
      "cell_type": "code",
      "metadata": {
        "id": "P-uymK0Ig5yq",
        "colab_type": "code",
        "colab": {
          "base_uri": "https://localhost:8080/",
          "height": 36
        },
        "outputId": "e2084452-1aa1-4094-a78e-ce723d1b060f"
      },
      "source": [
        "model = xgb.XGBClassifier(gamma=0, objective='multi:softprob',\n",
        "                          learning_rate=0.1,max_depth=10, \n",
        "                          n_estimators=500,\n",
        "                          tree_method='gpu_hist')\n",
        "model.fit(train_X, train_y)\n",
        "y_pred = model.predict(val_X)\n",
        "accuracy = accuracy_score(val_y, y_pred)\n",
        "print(\"Accuracy: %.2f%%\" % (accuracy * 100.0))"
      ],
      "execution_count": null,
      "outputs": [
        {
          "output_type": "stream",
          "text": [
            "Accuracy: 43.53%\n"
          ],
          "name": "stdout"
        }
      ]
    },
    {
      "cell_type": "markdown",
      "metadata": {
        "id": "UElrGLFGgiSd",
        "colab_type": "text"
      },
      "source": [
        "## 4) Adding Time: LSTM"
      ]
    },
    {
      "cell_type": "markdown",
      "metadata": {
        "id": "1EN21BwQ9rYo",
        "colab_type": "text"
      },
      "source": [
        "In a football match, time is crucial. Certain sequences of events might decide how the match is gonna end (red card, penalty given, late minute goal, rough start for one side...). Therefore, it's logical to try and incorporate time series into our modeling process."
      ]
    },
    {
      "cell_type": "code",
      "metadata": {
        "id": "en-aa71egmXy",
        "colab_type": "code",
        "colab": {}
      },
      "source": [
        "import tensorflow as tf\n",
        "from keras.callbacks import ModelCheckpoint\n",
        "from keras.models import Model, load_model, Sequential\n",
        "from keras.layers import Dense, Activation, Dropout, Input, Masking, TimeDistributed, LSTM, Conv1D\n",
        "from keras.layers import GRU, SimpleRNN, Bidirectional, BatchNormalization, Reshape\n",
        "from keras.optimizers import Adam, SGD, RMSprop"
      ],
      "execution_count": 37,
      "outputs": []
    },
    {
      "cell_type": "markdown",
      "metadata": {
        "id": "R1KUlPaTkDPl",
        "colab_type": "text"
      },
      "source": [
        "Reducing the data because the processing time makes the environment reboot"
      ]
    },
    {
      "cell_type": "code",
      "metadata": {
        "id": "x50RfwEjh1gJ",
        "colab_type": "code",
        "colab": {}
      },
      "source": [
        "mini_data=data.iloc[15*(data.shape[0]//16):]\n",
        "mini_model_data=model_data.iloc[15*(data.shape[0]//16):]"
      ],
      "execution_count": 61,
      "outputs": []
    },
    {
      "cell_type": "code",
      "metadata": {
        "id": "pPp_EN4KkHEW",
        "colab_type": "code",
        "colab": {}
      },
      "source": [
        "rnn_data=data[[\"id_odsp\",\"time\",\"event_type\"]]"
      ],
      "execution_count": 109,
      "outputs": []
    },
    {
      "cell_type": "code",
      "metadata": {
        "id": "je3wsxltNGuk",
        "colab_type": "code",
        "colab": {}
      },
      "source": [
        "rnn_data=pd.merge(rnn_data,model_data,how='left',left_on='id_odsp',right_on='id_odsp')"
      ],
      "execution_count": 110,
      "outputs": []
    },
    {
      "cell_type": "code",
      "metadata": {
        "id": "2IKWi6QoM1xa",
        "colab_type": "code",
        "colab": {}
      },
      "source": [
        "dummy=pd.get_dummies(rnn_data.drop([\"id_odsp\"],axis=1))"
      ],
      "execution_count": 111,
      "outputs": []
    },
    {
      "cell_type": "code",
      "metadata": {
        "id": "dS7wk1h7PYgg",
        "colab_type": "code",
        "colab": {}
      },
      "source": [
        "rnn_data_enc=pd.concat([rnn_data[\"id_odsp\"],dummy],axis=1)"
      ],
      "execution_count": 112,
      "outputs": []
    },
    {
      "cell_type": "code",
      "metadata": {
        "id": "2UdiI3-VP_rN",
        "colab_type": "code",
        "colab": {}
      },
      "source": [
        "time_series_data=[]\n",
        "match_outcomes=[]\n",
        "\n",
        "matches=data[\"id_odsp\"].unique()\n",
        "for i in range(len(matches)):\n",
        "  match_data=rnn_data_enc[rnn_data_enc[\"id_odsp\"]==matches[i]].drop([\"id_odsp\",\"time\",\"outcome\"],axis=1)\n",
        "  match_outcome=rnn_data_enc[rnn_data_enc[\"id_odsp\"]==matches[i]][\"outcome\"].iloc[0]\n",
        "  match_data=match_data.values\n",
        "  time_series_data.append(match_data)\n",
        "  match_outcomes.append(match_outcome)"
      ],
      "execution_count": 119,
      "outputs": []
    },
    {
      "cell_type": "code",
      "metadata": {
        "id": "YmuT-GeDSlia",
        "colab_type": "code",
        "colab": {}
      },
      "source": [
        "min_length=min(map(len, time_series_data))\n",
        "time_series_data=[time_series_data[i][len(time_series_data[i])-min_length:] for i in range(len(time_series_data))]"
      ],
      "execution_count": 120,
      "outputs": []
    },
    {
      "cell_type": "code",
      "metadata": {
        "id": "RBm4YXt5wBGz",
        "colab_type": "code",
        "colab": {}
      },
      "source": [
        "X, y = np.array(time_series_data), np.array(match_outcomes)"
      ],
      "execution_count": 121,
      "outputs": []
    },
    {
      "cell_type": "code",
      "metadata": {
        "id": "lmJVg7RabEE7",
        "colab_type": "code",
        "colab": {}
      },
      "source": [
        "#np.save(\"/content/drive/My Drive/Football events/time_series_arrays.npy\", X)\n",
        "#np.save(\"/content/drive/My Drive/Football events/match_outcomes.npy\", y)\n"
      ],
      "execution_count": 125,
      "outputs": []
    },
    {
      "cell_type": "code",
      "metadata": {
        "id": "m_nHz91ibfw4",
        "colab_type": "code",
        "colab": {}
      },
      "source": [
        "#time_series_data=np.load(\"/content/drive/My Drive/Football events/time_series_arrays.npy\")\n",
        "#match_outcomes=np.load(\"/content/drive/My Drive/Football events/match_outcomes.npy\")\n"
      ],
      "execution_count": 123,
      "outputs": []
    },
    {
      "cell_type": "code",
      "metadata": {
        "id": "dELkxOe73yMT",
        "colab_type": "code",
        "colab": {}
      },
      "source": [
        "from keras.utils import np_utils\n",
        "y_one = np_utils.to_categorical(y, num_classes=3)\n"
      ],
      "execution_count": 147,
      "outputs": []
    },
    {
      "cell_type": "code",
      "metadata": {
        "id": "NhoH4v1jxNR0",
        "colab_type": "code",
        "colab": {}
      },
      "source": [
        "size = int(len(X) * 0.7)"
      ],
      "execution_count": 132,
      "outputs": []
    },
    {
      "cell_type": "code",
      "metadata": {
        "id": "ta0kq8RS2FZL",
        "colab_type": "code",
        "colab": {}
      },
      "source": [
        "train_X, val_X = X[0:size], X[size:len(X)]\n",
        "train_y, val_y = y_one[0:size], y_one[size:len(X)]"
      ],
      "execution_count": 189,
      "outputs": []
    },
    {
      "cell_type": "code",
      "metadata": {
        "id": "-lVUVk-QgswW",
        "colab_type": "code",
        "colab": {}
      },
      "source": [
        "model = Sequential()\n",
        "# First LSTM layer\n",
        "model.add(LSTM(units=128, return_sequences=True,input_shape=(train_X.shape[1],train_X.shape[2])))\n",
        "#model.add(Bidirectional(LSTM(units=30, return_sequences=False), input_shape=(X_train.shape[1],X_train.shape[2])))\n",
        "#model.add(Dropout(0.2))\n",
        "model.add(LSTM(units=64, return_sequences=False,input_shape=(train_X.shape[1],train_X.shape[2])))\n",
        "model.add(Dropout(0.2))\n",
        "model.add(Dense(units=128))\n",
        "# The output layer\n",
        "model.add(Dense(units=3, activation='softmax'))\n",
        "opt=Adam(\n",
        "    learning_rate=0.01,\n",
        "    beta_1=0.9,\n",
        "    beta_2=0.99,\n",
        "    epsilon=1e-07,\n",
        "    amsgrad=False,\n",
        "    name=\"Adam\")\n",
        "##Best params beta1 0.9 beta2 0.99 25 epochs\n",
        "\n",
        "model.compile(optimizer=opt ,loss='mean_squared_error')"
      ],
      "execution_count": 196,
      "outputs": []
    },
    {
      "cell_type": "code",
      "metadata": {
        "id": "QpHzrNDVgxa3",
        "colab_type": "code",
        "colab": {
          "base_uri": "https://localhost:8080/",
          "height": 205
        },
        "outputId": "1007f2e9-39c0-4ab4-9c0f-6c6385b0c540"
      },
      "source": [
        "model.fit(train_X, train_y, validation_data=(val_X,val_y), batch_size=256, epochs=4)"
      ],
      "execution_count": 197,
      "outputs": [
        {
          "output_type": "stream",
          "text": [
            "Epoch 1/4\n",
            "25/25 [==============================] - 2s 75ms/step - loss: 0.2267 - val_loss: 0.2078\n",
            "Epoch 2/4\n",
            "25/25 [==============================] - 1s 37ms/step - loss: 0.2010 - val_loss: 0.2060\n",
            "Epoch 3/4\n",
            "25/25 [==============================] - 1s 36ms/step - loss: 0.1953 - val_loss: 0.2102\n",
            "Epoch 4/4\n",
            "25/25 [==============================] - 1s 35ms/step - loss: 0.1922 - val_loss: 0.2091\n"
          ],
          "name": "stdout"
        },
        {
          "output_type": "execute_result",
          "data": {
            "text/plain": [
              "<tensorflow.python.keras.callbacks.History at 0x7f7118ccdb00>"
            ]
          },
          "metadata": {
            "tags": []
          },
          "execution_count": 197
        }
      ]
    },
    {
      "cell_type": "code",
      "metadata": {
        "id": "3WRfnuMIgxeP",
        "colab_type": "code",
        "colab": {}
      },
      "source": [
        "pred = model.predict_classes(val_X)"
      ],
      "execution_count": 198,
      "outputs": []
    },
    {
      "cell_type": "code",
      "metadata": {
        "id": "hUlU0Jyn6BSP",
        "colab_type": "code",
        "colab": {}
      },
      "source": [
        "pred2=[]\n",
        "for i in pred:\n",
        "  if i==2:\n",
        "    pred2.append(-1)\n",
        "  else:\n",
        "    pred2.append(i)"
      ],
      "execution_count": 199,
      "outputs": []
    },
    {
      "cell_type": "code",
      "metadata": {
        "id": "1_W4EkcY7WIy",
        "colab_type": "code",
        "colab": {
          "base_uri": "https://localhost:8080/",
          "height": 36
        },
        "outputId": "671cd43e-3865-4c54-f7c2-f81eaed8dcb0"
      },
      "source": [
        "print(\"The LSTM model accuracy is %.2f%%\" %(100*accuracy_score(pred2,y[size:len(X)])))"
      ],
      "execution_count": 201,
      "outputs": [
        {
          "output_type": "stream",
          "text": [
            "The LSTM model accuracy is 46.38%\n"
          ],
          "name": "stdout"
        }
      ]
    },
    {
      "cell_type": "markdown",
      "metadata": {
        "id": "VXEpZfaf8IeJ",
        "colab_type": "text"
      },
      "source": [
        "# Conclusion:"
      ]
    },
    {
      "cell_type": "markdown",
      "metadata": {
        "id": "sSZv_iva8SxH",
        "colab_type": "text"
      },
      "source": [
        "This notebook has been a simple example with working on football data.\\\n",
        "I started by summarizing the data and giving insights about the teams, offensively and defensively.\\\n",
        "Then I went to explore the data concerning the players.\\\n",
        "Later, I applied two ML and a DL algorithm to the data:\n",
        "- The first is an XGBoost model with simple data (input data consists only of the match sides).\n",
        "- The second model has some added features such as the amount of separate events for each team.\n",
        "- The third model is a sequence model that takes in account the temporal variation of events inside the match.\n",
        "\n",
        "The obtained accuracy is not-satisfactory (however the sequence model has a slightly higher accuracy), future work can include using NLP techniques with the event descriptions. Other applications can include whether a sequence of events can lead to  goal or not, which I will try in the future."
      ]
    },
    {
      "cell_type": "code",
      "metadata": {
        "id": "xrtvZqVa9ii2",
        "colab_type": "code",
        "colab": {}
      },
      "source": [
        ""
      ],
      "execution_count": null,
      "outputs": []
    }
  ]
}